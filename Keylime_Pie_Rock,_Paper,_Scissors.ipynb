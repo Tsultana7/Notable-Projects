{
  "nbformat": 4,
  "nbformat_minor": 0,
  "metadata": {
    "colab": {
      "provenance": [],
      "include_colab_link": true
    },
    "kernelspec": {
      "display_name": "Python 3",
      "name": "python3"
    }
  },
  "cells": [
    {
      "cell_type": "markdown",
      "metadata": {
        "id": "view-in-github",
        "colab_type": "text"
      },
      "source": [
        "<a href=\"https://colab.research.google.com/github/Tsultana7/Notable-Projects/blob/main/Keylime_Pie_Rock%2C_Paper%2C_Scissors.ipynb\" target=\"_parent\"><img src=\"https://colab.research.google.com/assets/colab-badge.svg\" alt=\"Open In Colab\"/></a>"
      ]
    },
    {
      "cell_type": "markdown",
      "metadata": {
        "id": "YdDjzng9Hqg5"
      },
      "source": [
        "#**Welcome to KeyLime Pie RPS!!**\n",
        "**Team Member Names:** Damian, Tajkeya, Whitney, Michael and Nasar\n",
        "\n",
        "\n",
        "We have only one rule:\n",
        "\n",
        "\n",
        "1.   HAVE FUN!!!!\n",
        "\n",
        "\n",
        "\n"
      ]
    },
    {
      "cell_type": "markdown",
      "metadata": {
        "id": "zW5v-zbH5zlV"
      },
      "source": [
        "We need variables to track wins for the player and computer//\n",
        "Input from the player to choose rock, paper, or scissors//\n",
        "Have the computer select rock, paper, or scissors randomly//\n",
        "While Loop: compare player selection and computer selection.//\n",
        "Determine who won or tie\n",
        "  TRACK WINS,\n",
        "  PRINT RESULTS,\n",
        "  ASK USER IF THEY WANT TO CONTINUE TO PLAY\n",
        "\n",
        "sep=\"\" for eliminating spaces between text body and 's\n",
        "\n"
      ]
    },
    {
      "cell_type": "markdown",
      "metadata": {
        "id": "GUAoOM-NKZt5"
      },
      "source": [
        "**What did it do well, what should it do differently?**\n",
        "\n",
        "The script ran successfully. It included everything we had in quotation marksand everything we wanted it to do. What we hoped it would do differently was give a prize after a certain amount of wins.  "
      ]
    },
    {
      "cell_type": "markdown",
      "metadata": {
        "id": "C-XvhDRdL7Zx"
      },
      "source": [
        "**What innovations did you hope to add to the script?**\n",
        "\n",
        "We hoped to add a limit to the script. Such as have a limit to how many times a player can retry"
      ]
    },
    {
      "cell_type": "markdown",
      "metadata": {
        "id": "h0fnkDYQM9ls"
      },
      "source": [
        "**Describe what should be the user experience.**\n",
        "\n",
        "The user experience should be fun and interactive. It is simple and easy to follow along with."
      ]
    },
    {
      "cell_type": "code",
      "metadata": {
        "colab": {
          "base_uri": "https://localhost:8080/"
        },
        "id": "3WxQnyNozZOh",
        "outputId": "2cf74c20-26cb-4cb3-c403-817d7dbf5a3f"
      },
      "source": [
        "#To improve we added a place to input your name, tracked wins, and more comments.\n",
        "\n",
        "print('Time for some Keylime Pie Roshambo')\n",
        "print(\"\")\n",
        "your_name = input(\"What is your name?:\") #Whitney added name input.\n",
        "import random\n",
        "\n",
        "\n",
        "def Choose_Option():\n",
        "  user_choice = input(\"Choose Rock, Paper, or Scissors:\")\n",
        "  if user_choice in(\"Rock\", \"R\", \"rock\", \"r\"):\n",
        "    user_choice = \"r\"\n",
        "  elif user_choice in(\"Paper\", \"P\", \"paper\", \"p\"):\n",
        "    user_choice = \"p\"\n",
        "  elif user_choice in(\"Scissors\", \"S\", \"scissors\", \"s\"):\n",
        "    user_choice = \"s\"\n",
        "  else:\n",
        "    print(\"Either you can't spell, or you don't know how to play the game. Try again you Dum Dum!!\")\n",
        "    print(\"\")\n",
        "    Choose_Option()\n",
        "  return user_choice\n",
        "\n",
        "comp_wins = 0\n",
        "player_wins = 0\n",
        "#Counter fixed to accurately display wins/losses - Michael Martinez\n",
        "\n",
        "def Computer_Option():\n",
        "  comp_choice = random.randint(1,3)\n",
        "  if comp_choice == 1:\n",
        "    comp_choice = \"r\"\n",
        "  elif comp_choice == 2:\n",
        "    comp_choice = \"p\"\n",
        "  else:\n",
        "    comp_choice = \"s\"\n",
        "  return comp_choice\n",
        "\n",
        "while True:\n",
        "  print(\"\")\n",
        "  user_choice = Choose_Option()\n",
        "  comp_choice = Computer_Option()\n",
        "  print(\"\")\n",
        "\n",
        "  if user_choice == \"r\":\n",
        "    if comp_choice == \"r\":\n",
        "      print(\"Double rock! You tied.\")\n",
        "    elif comp_choice == \"p\":\n",
        "      print(\"Aw shucks. The computer chose paper. You lose. Try Again mate!\") #Tajkeya Added \"try again mate\"\n",
        "      comp_wins += 1\n",
        "    elif comp_choice == \"s\":\n",
        "      print(\"Yes! Rock beats scissors. You win!\")\n",
        "      player_wins += 1\n",
        "\n",
        "  if user_choice == \"p\":\n",
        "    if comp_choice == \"r\":\n",
        "      print(\"Paper swallows rock apparently?? Haha! You win!\")\n",
        "      player_wins += 1\n",
        "    elif comp_choice == \"p\":\n",
        "      print(\"That's a thin sandwich! Double paper. You tied!\")\n",
        "    elif comp_choice == \"s\":\n",
        "      print(\"Death by a thousand cuts! Scissors beats paper. You lose.\")\n",
        "      comp_wins += 1\n",
        "\n",
        "  if user_choice == \"s\":\n",
        "    if comp_choice == \"r\":\n",
        "      print(\"Aw shucks. The computer chose rock. You lose.\")\n",
        "      comp_wins += 1\n",
        "    elif comp_choice == \"p\":\n",
        "      print(\"Yes! Scissors beats paper. You win!\")\n",
        "      player_wins += 1\n",
        "    elif comp_choice == \"s\":\n",
        "      print(\"Woah, it's getting hot in here! Double scissors. You tied.\")\n",
        "\n",
        "#Nasar added:\n",
        "  print(\"\")\n",
        "  print(\"Player wins: \" + str(player_wins))\n",
        "  print(\"Computer wins: \" + str(comp_wins))\n",
        "  print(\"\")\n",
        "\n",
        "#Tajkeya added input(do you want to play again?)\n",
        "#Tajkeya changed user_choice answer to just simple yes or no instead of having varity of answer choices.\n",
        "#Players will not know which answers will be accpeted and which answers will not, since they were not stated with the question.\n",
        "  user_choice = input(\"Do you want to play again? Yes/No/Y/N \")\n",
        "  if user_choice in (\"Yes\", \"No\", \"yes\", \"no\", \"Y\", \"N\", \"y\", \"n\"):\n",
        "\n",
        "    pass\n",
        "  elif user_choice in (\"nay\", \"no\", \"NO\", \"N\", \"n\", \"nah\", \"awh nawh\", \"nope\"): #Tajkeya added user_choice in (no's)\n",
        "    break\n",
        "  else:\n",
        "    break\n",
        "\n",
        "  print(\"RO-SHAM-BO!\")\n",
        "\n",
        ""
      ],
      "execution_count": null,
      "outputs": [
        {
          "output_type": "stream",
          "text": [
            "Time for some Keylime Pie Roshambo\n",
            "\n",
            "What is your name?:Armando\n",
            "\n",
            "Choose Rock, Paper, or Scissors:Cowboy\n",
            "Either you can't spell, or you don't know how to play the game. Try again you Dum Dum!!\n",
            "\n",
            "Choose Rock, Paper, or Scissors:rock\n",
            "\n",
            "\n",
            "Player wins: 0\n",
            "Computer wins: 0\n",
            "\n",
            "Do you want to play again? Yes/No/Y/N Y\n",
            "RO-SHAM-BO!\n",
            "\n",
            "Choose Rock, Paper, or Scissors:Rock\n",
            "\n",
            "Aw shucks. The computer chose paper. You lose. Try Again mate!\n",
            "\n",
            "Player wins: 0\n",
            "Computer wins: 1\n",
            "\n",
            "Do you want to play again? Yes/No/Y/N yes\n",
            "RO-SHAM-BO!\n",
            "\n",
            "Choose Rock, Paper, or Scissors:Paper\n",
            "\n",
            "Death by a thousand cuts! Scissors beats paper. You lose.\n",
            "\n",
            "Player wins: 0\n",
            "Computer wins: 2\n",
            "\n",
            "Do you want to play again? Yes/No/Y/N Y\n",
            "RO-SHAM-BO!\n",
            "\n",
            "Choose Rock, Paper, or Scissors:Rock\n",
            "\n",
            "Double rock! You tied.\n",
            "\n",
            "Player wins: 0\n",
            "Computer wins: 2\n",
            "\n",
            "Do you want to play again? Yes/No/Y/N Y\n",
            "RO-SHAM-BO!\n",
            "\n",
            "Choose Rock, Paper, or Scissors:Scissors\n",
            "\n",
            "Aw shucks. The computer chose rock. You lose.\n",
            "\n",
            "Player wins: 0\n",
            "Computer wins: 3\n",
            "\n",
            "Do you want to play again? Yes/No/Y/N n\n",
            "RO-SHAM-BO!\n",
            "\n",
            "Choose Rock, Paper, or Scissors:N\n",
            "Either you can't spell, or you don't know how to play the game. Try again you Dum Dum!!\n",
            "\n",
            "Choose Rock, Paper, or Scissors:S\n",
            "\n",
            "\n",
            "Player wins: 0\n",
            "Computer wins: 3\n",
            "\n",
            "Do you want to play again? Yes/No/Y/N N\n",
            "RO-SHAM-BO!\n",
            "\n"
          ],
          "name": "stdout"
        }
      ]
    }
  ]
}